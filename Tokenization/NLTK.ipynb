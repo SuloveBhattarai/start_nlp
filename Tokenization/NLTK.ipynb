{
 "cells": [
  {
   "cell_type": "code",
   "execution_count": 79,
   "id": "ef0231c5",
   "metadata": {},
   "outputs": [],
   "source": [
    "import nltk\n"
   ]
  },
  {
   "cell_type": "code",
   "execution_count": 80,
   "id": "cd20caf9",
   "metadata": {},
   "outputs": [
    {
     "name": "stdout",
     "output_type": "stream",
     "text": [
      "showing info https://raw.githubusercontent.com/nltk/nltk_data/gh-pages/index.xml\n"
     ]
    },
    {
     "data": {
      "text/plain": [
       "True"
      ]
     },
     "execution_count": 80,
     "metadata": {},
     "output_type": "execute_result"
    }
   ],
   "source": [
    "nltk.download()"
   ]
  },
  {
   "cell_type": "code",
   "execution_count": 81,
   "id": "f1e09570",
   "metadata": {},
   "outputs": [
    {
     "name": "stderr",
     "output_type": "stream",
     "text": [
      "[nltk_data] Downloading package punkt to\n",
      "[nltk_data]     C:\\Users\\user\\AppData\\Roaming\\nltk_data...\n",
      "[nltk_data]   Package punkt is already up-to-date!\n"
     ]
    },
    {
     "data": {
      "text/plain": [
       "True"
      ]
     },
     "execution_count": 81,
     "metadata": {},
     "output_type": "execute_result"
    }
   ],
   "source": [
    "nltk.download('punkt')\n"
   ]
  },
  {
   "cell_type": "code",
   "execution_count": 82,
   "id": "b6bfa4b9",
   "metadata": {},
   "outputs": [],
   "source": [
    "paragraph= \"\"\"We are most familiar with the accomplishments of Dr APJ Abdul Kalam as a defence scientist. As a result of it, the alliance of N. D. A. government made him the contender for the post of leader of India in 2002. With about 90% vote, he swore as the eleventh president of India on 25 July 2002 in Parliament within sight of Prime Minister Atal Bihari Vajpayee and his bureau of ministers.\n",
    "\n",
    "Sir Abdul Kalam was a vegan and carefully followed discipline throughout his life. Even though he didn’t have connections with a political field, he was politically productive on account of his idea of patriotism and his devotion towards open government assistance. He has been the central President who has never had any association with legislative issues or political exercises.\n",
    "\n",
    "In his few books, Kalam Sir has explained how he turned into the president of India. Through this book, he has explained numerous occasions that happened with him turning into the president.\n",
    "\n",
    "This book recommends that he again wanted to be the president of India. However, the conditions didn’t permit him to do as such. By going through his books, we can easily understand the thought of his interest and ability recorded as a hard copy.\"\"\"\n"
   ]
  },
  {
   "cell_type": "code",
   "execution_count": 83,
   "id": "76ea9e46",
   "metadata": {},
   "outputs": [],
   "source": [
    "sentences= nltk.sent_tokenize(paragraph)"
   ]
  },
  {
   "cell_type": "code",
   "execution_count": 84,
   "id": "1f13ea8c",
   "metadata": {},
   "outputs": [],
   "source": [
    "words= nltk.word_tokenize(paragraph)"
   ]
  },
  {
   "cell_type": "code",
   "execution_count": 85,
   "id": "36c48b8d",
   "metadata": {},
   "outputs": [],
   "source": [
    "words_count= len(words)"
   ]
  },
  {
   "cell_type": "code",
   "execution_count": 86,
   "id": "3b477637",
   "metadata": {},
   "outputs": [
    {
     "data": {
      "text/plain": [
       "230"
      ]
     },
     "execution_count": 86,
     "metadata": {},
     "output_type": "execute_result"
    }
   ],
   "source": [
    "words_count"
   ]
  },
  {
   "cell_type": "code",
   "execution_count": 87,
   "id": "74bce531",
   "metadata": {},
   "outputs": [],
   "source": [
    "sentense_counts= len(sentences)"
   ]
  },
  {
   "cell_type": "code",
   "execution_count": 88,
   "id": "3b8f6321",
   "metadata": {},
   "outputs": [
    {
     "data": {
      "text/plain": [
       "11"
      ]
     },
     "execution_count": 88,
     "metadata": {},
     "output_type": "execute_result"
    }
   ],
   "source": [
    "sentense_counts"
   ]
  },
  {
   "cell_type": "code",
   "execution_count": 89,
   "id": "77dadc11",
   "metadata": {},
   "outputs": [],
   "source": [
    "from nltk.corpus import stopwords\n",
    "from nltk.stem import PorterStemmer"
   ]
  },
  {
   "cell_type": "markdown",
   "id": "911af0a8",
   "metadata": {},
   "source": [
    "**Stopwords** and **PorterStemmer for stemming**"
   ]
  },
  {
   "cell_type": "code",
   "execution_count": 90,
   "id": "99bbdaef",
   "metadata": {},
   "outputs": [],
   "source": [
    "#Process of reducing words to their word stem or root form, which helps in simplifying and grouping words with similar meanings.\n",
    "from nltk.stem import PorterStemmer"
   ]
  },
  {
   "cell_type": "code",
   "execution_count": 91,
   "id": "e572fcb6",
   "metadata": {},
   "outputs": [],
   "source": [
    "stemmer= PorterStemmer()"
   ]
  },
  {
   "cell_type": "markdown",
   "id": "6994cd13",
   "metadata": {},
   "source": [
    "**Stopwords help to eradicate words like** of, this, them, me, myself"
   ]
  },
  {
   "cell_type": "code",
   "execution_count": 92,
   "id": "fd440d86",
   "metadata": {},
   "outputs": [],
   "source": [
    "for i in range(len(sentences)):\n",
    "    words= nltk.word_tokenize(sentences[i])\n",
    "    words= [stemmer.stem(word) for word in words if word not in set(stopwords.words('english'))]\n",
    "    sentences[i]= ' '.join(words)"
   ]
  },
  {
   "cell_type": "code",
   "execution_count": 93,
   "id": "4eb8bc94",
   "metadata": {},
   "outputs": [
    {
     "data": {
      "text/plain": [
       "['we familiar accomplish dr apj abdul kalam defenc scientist .',\n",
       " 'as result , allianc n. d. a. govern made contend post leader india 2002 .',\n",
       " 'with 90 % vote , swore eleventh presid india 25 juli 2002 parliament within sight prime minist atal bihari vajpaye bureau minist .',\n",
       " 'sir abdul kalam vegan care follow disciplin throughout life .',\n",
       " 'even though ’ connect polit field , polit product account idea patriot devot toward open govern assist .',\n",
       " 'he central presid never associ legisl issu polit exercis .',\n",
       " 'in book , kalam sir explain turn presid india .',\n",
       " 'through book , explain numer occas happen turn presid .',\n",
       " 'thi book recommend want presid india .',\n",
       " 'howev , condit ’ permit .',\n",
       " 'by go book , easili understand thought interest abil record hard copi .']"
      ]
     },
     "execution_count": 93,
     "metadata": {},
     "output_type": "execute_result"
    }
   ],
   "source": [
    "sentences"
   ]
  },
  {
   "cell_type": "markdown",
   "id": "538b7cf4",
   "metadata": {},
   "source": [
    "**Problem of Stemming**\n",
    "Most of the words created after stemming may not have a proper meaning"
   ]
  },
  {
   "cell_type": "markdown",
   "id": "2c863302",
   "metadata": {},
   "source": [
    "\n",
    "**Now lets move to lemmatization**\n"
   ]
  },
  {
   "cell_type": "code",
   "execution_count": 94,
   "id": "10f08fc0",
   "metadata": {},
   "outputs": [],
   "source": [
    "from nltk.stem import WordNetLemmatizer\n",
    "sentences= nltk.sent_tokenize(paragraph)\n",
    "lemmatizer= WordNetLemmatizer()\n"
   ]
  },
  {
   "cell_type": "code",
   "execution_count": 95,
   "id": "ad53120a",
   "metadata": {},
   "outputs": [],
   "source": [
    "##Lemmatization\n",
    "for i in range(len(sentences)):\n",
    "    words= nltk.word_tokenize(sentences[i])\n",
    "    words= [lemmatizer.lemmatize(word) for word in words if word not in set(stopwords.words('english'))]\n",
    "    sentences[i]= ' '.join(words)"
   ]
  },
  {
   "cell_type": "code",
   "execution_count": 96,
   "id": "ca877632",
   "metadata": {},
   "outputs": [
    {
     "data": {
      "text/plain": [
       "['We familiar accomplishment Dr APJ Abdul Kalam defence scientist .',\n",
       " 'As result , alliance N. D. A. government made contender post leader India 2002 .',\n",
       " 'With 90 % vote , swore eleventh president India 25 July 2002 Parliament within sight Prime Minister Atal Bihari Vajpayee bureau minister .',\n",
       " 'Sir Abdul Kalam vegan carefully followed discipline throughout life .',\n",
       " 'Even though ’ connection political field , politically productive account idea patriotism devotion towards open government assistance .',\n",
       " 'He central President never association legislative issue political exercise .',\n",
       " 'In book , Kalam Sir explained turned president India .',\n",
       " 'Through book , explained numerous occasion happened turning president .',\n",
       " 'This book recommends wanted president India .',\n",
       " 'However , condition ’ permit .',\n",
       " 'By going book , easily understand thought interest ability recorded hard copy .']"
      ]
     },
     "execution_count": 96,
     "metadata": {},
     "output_type": "execute_result"
    }
   ],
   "source": [
    "sentences"
   ]
  },
  {
   "cell_type": "markdown",
   "id": "00991616",
   "metadata": {},
   "source": [
    "**From above, we can now notice the difference between the words using stemming and lemmatization**"
   ]
  },
  {
   "cell_type": "markdown",
   "id": "cf0fbc96",
   "metadata": {},
   "source": [
    "**Moving on to Bag of Words**\n"
   ]
  },
  {
   "cell_type": "code",
   "execution_count": 97,
   "id": "7a8e6f43",
   "metadata": {},
   "outputs": [],
   "source": [
    "#First we should know how to clean the texts\n"
   ]
  },
  {
   "cell_type": "code",
   "execution_count": 98,
   "id": "a36e8760",
   "metadata": {},
   "outputs": [],
   "source": [
    "import re\n",
    "from nltk.corpus import stopwords\n",
    "from nltk.stem.porter import PorterStemmer\n",
    "from nltk.stem import WordNetLemmatizer"
   ]
  },
  {
   "cell_type": "code",
   "execution_count": 99,
   "id": "14eca21c",
   "metadata": {},
   "outputs": [],
   "source": [
    "ps= PorterStemmer()\n",
    "wordnet= WordNetLemmatizer()\n",
    "sentences= nltk.sent_tokenize(paragraph)\n",
    "corpus= []"
   ]
  },
  {
   "cell_type": "code",
   "execution_count": 100,
   "id": "ab2e7335",
   "metadata": {},
   "outputs": [],
   "source": [
    "for i in range(len(sentences)):\n",
    "    review= re.sub('[^a-zA-Z]', ' ', sentences[i])\n",
    "    review= review.lower()\n",
    "    review= review.split()\n",
    "    review= [ps.stem(word) for word in review if not word in set(stopwords.words('english'))]\n",
    "    review= ' '.join(review)\n",
    "    corpus.append(review)"
   ]
  },
  {
   "cell_type": "code",
   "execution_count": 101,
   "id": "4f322980",
   "metadata": {},
   "outputs": [
    {
     "data": {
      "text/plain": [
       "['familiar accomplish dr apj abdul kalam defenc scientist',\n",
       " 'result allianc n govern made contend post leader india',\n",
       " 'vote swore eleventh presid india juli parliament within sight prime minist atal bihari vajpaye bureau minist',\n",
       " 'sir abdul kalam vegan care follow disciplin throughout life',\n",
       " 'even though connect polit field polit product account idea patriot devot toward open govern assist',\n",
       " 'central presid never associ legisl issu polit exercis',\n",
       " 'book kalam sir explain turn presid india',\n",
       " 'book explain numer occas happen turn presid',\n",
       " 'book recommend want presid india',\n",
       " 'howev condit permit',\n",
       " 'go book easili understand thought interest abil record hard copi']"
      ]
     },
     "execution_count": 101,
     "metadata": {},
     "output_type": "execute_result"
    }
   ],
   "source": [
    "corpus"
   ]
  },
  {
   "cell_type": "code",
   "execution_count": 102,
   "id": "87e89f02",
   "metadata": {},
   "outputs": [
    {
     "data": {
      "text/plain": [
       "['We are most familiar with the accomplishments of Dr APJ Abdul Kalam as a defence scientist.',\n",
       " 'As a result of it, the alliance of N. D. A. government made him the contender for the post of leader of India in 2002.',\n",
       " 'With about 90% vote, he swore as the eleventh president of India on 25 July 2002 in Parliament within sight of Prime Minister Atal Bihari Vajpayee and his bureau of ministers.',\n",
       " 'Sir Abdul Kalam was a vegan and carefully followed discipline throughout his life.',\n",
       " 'Even though he didn’t have connections with a political field, he was politically productive on account of his idea of patriotism and his devotion towards open government assistance.',\n",
       " 'He has been the central President who has never had any association with legislative issues or political exercises.',\n",
       " 'In his few books, Kalam Sir has explained how he turned into the president of India.',\n",
       " 'Through this book, he has explained numerous occasions that happened with him turning into the president.',\n",
       " 'This book recommends that he again wanted to be the president of India.',\n",
       " 'However, the conditions didn’t permit him to do as such.',\n",
       " 'By going through his books, we can easily understand the thought of his interest and ability recorded as a hard copy.']"
      ]
     },
     "execution_count": 102,
     "metadata": {},
     "output_type": "execute_result"
    }
   ],
   "source": [
    "sentences"
   ]
  },
  {
   "cell_type": "markdown",
   "id": "6ca90142",
   "metadata": {},
   "source": [
    "**We can see the difference between after and before stemming**\n",
    "**corpus -> after stemming**\n",
    "**sentences-> before stemming**"
   ]
  },
  {
   "cell_type": "markdown",
   "id": "cc9917d1",
   "metadata": {},
   "source": [
    "**We will be using** Lemmatization"
   ]
  },
  {
   "cell_type": "code",
   "execution_count": 104,
   "id": "884b0703",
   "metadata": {},
   "outputs": [],
   "source": [
    "for i in range(len(sentences)):\n",
    "    review= re.sub('[^a-zA-Z]', ' ', sentences[i])\n",
    "    review= review.lower()\n",
    "    review= review.split()\n",
    "    review= [wordnet.lemmatize(word) for word in review if not word in set(stopwords.words('english'))]\n",
    "    review= ' '.join(review)\n",
    "    corpus.append(review)"
   ]
  },
  {
   "cell_type": "code",
   "execution_count": 105,
   "id": "92c6932b",
   "metadata": {},
   "outputs": [
    {
     "data": {
      "text/plain": [
       "['familiar accomplish dr apj abdul kalam defenc scientist',\n",
       " 'result allianc n govern made contend post leader india',\n",
       " 'vote swore eleventh presid india juli parliament within sight prime minist atal bihari vajpaye bureau minist',\n",
       " 'sir abdul kalam vegan care follow disciplin throughout life',\n",
       " 'even though connect polit field polit product account idea patriot devot toward open govern assist',\n",
       " 'central presid never associ legisl issu polit exercis',\n",
       " 'book kalam sir explain turn presid india',\n",
       " 'book explain numer occas happen turn presid',\n",
       " 'book recommend want presid india',\n",
       " 'howev condit permit',\n",
       " 'go book easili understand thought interest abil record hard copi',\n",
       " 'familiar accomplishment dr apj abdul kalam defence scientist',\n",
       " 'result alliance n government made contender post leader india',\n",
       " 'vote swore eleventh president india july parliament within sight prime minister atal bihari vajpayee bureau minister',\n",
       " 'sir abdul kalam vegan carefully followed discipline throughout life',\n",
       " 'even though connection political field politically productive account idea patriotism devotion towards open government assistance',\n",
       " 'central president never association legislative issue political exercise',\n",
       " 'book kalam sir explained turned president india',\n",
       " 'book explained numerous occasion happened turning president',\n",
       " 'book recommends wanted president india',\n",
       " 'however condition permit',\n",
       " 'going book easily understand thought interest ability recorded hard copy']"
      ]
     },
     "execution_count": 105,
     "metadata": {},
     "output_type": "execute_result"
    }
   ],
   "source": [
    "corpus"
   ]
  },
  {
   "cell_type": "markdown",
   "id": "b1f9369c",
   "metadata": {},
   "source": [
    "**Above highlights the difference between lemmatization and stemming**"
   ]
  },
  {
   "cell_type": "markdown",
   "id": "5f574df4",
   "metadata": {},
   "source": [
    "**Using scikit-learn library to create a model of Bag-Of-Words**\n"
   ]
  },
  {
   "cell_type": "code",
   "execution_count": 106,
   "id": "8dbc6941",
   "metadata": {},
   "outputs": [],
   "source": [
    "from sklearn.feature_extraction.text import CountVectorizer\n",
    "cv= CountVectorizer()\n",
    "X= cv.fit_transform(corpus).toarray()"
   ]
  },
  {
   "cell_type": "code",
   "execution_count": 109,
   "id": "c4461c4b",
   "metadata": {},
   "outputs": [
    {
     "data": {
      "text/plain": [
       "array([[1, 0, 0, ..., 0, 0, 0],\n",
       "       [0, 0, 0, ..., 0, 0, 0],\n",
       "       [0, 0, 0, ..., 0, 0, 1],\n",
       "       ...,\n",
       "       [0, 0, 0, ..., 0, 1, 0],\n",
       "       [0, 0, 0, ..., 0, 0, 0],\n",
       "       [0, 0, 1, ..., 0, 0, 0]], dtype=int64)"
      ]
     },
     "execution_count": 109,
     "metadata": {},
     "output_type": "execute_result"
    }
   ],
   "source": [
    "X\n"
   ]
  },
  {
   "cell_type": "markdown",
   "id": "8ef9b3b9",
   "metadata": {},
   "source": [
    "**TFIDF** Term Frequency Inverse Document Frequency"
   ]
  },
  {
   "cell_type": "markdown",
   "id": "f3d49104",
   "metadata": {},
   "source": [
    "TF= Number of repeated words in a sentence/ Number of words in a sentence"
   ]
  },
  {
   "cell_type": "markdown",
   "id": "c5026b2a",
   "metadata": {},
   "source": [
    "IDF= log(Number of sentences/ Number of sentences containing words)"
   ]
  },
  {
   "cell_type": "code",
   "execution_count": 111,
   "id": "f29d6ff5",
   "metadata": {},
   "outputs": [],
   "source": [
    "wordnet= WordNetLemmatizer()\n",
    "sentences=  nltk.sent_tokenize(paragraph)\n",
    "corpus= []\n",
    "for i in range(len(sentences)):\n",
    "    review= re.sub('[^a-zA-X]', ' ', sentences[i])\n",
    "    review= review.lower()\n",
    "    review= review.split()\n",
    "    review= [wordnet.lemmatize(word) for word in review if not word in set(stopwords.words('english'))]\n",
    "    review= ' '.join(review)\n",
    "    corpus.append(review)"
   ]
  },
  {
   "cell_type": "code",
   "execution_count": 112,
   "id": "3ddb8cc1",
   "metadata": {},
   "outputs": [
    {
     "ename": "ImportError",
     "evalue": "cannot import name 'TfidVectorizer' from 'sklearn.feature_extraction.text' (C:\\Users\\user\\anaconda3\\Lib\\site-packages\\sklearn\\feature_extraction\\text.py)",
     "output_type": "error",
     "traceback": [
      "\u001b[1;31m---------------------------------------------------------------------------\u001b[0m",
      "\u001b[1;31mImportError\u001b[0m                               Traceback (most recent call last)",
      "Cell \u001b[1;32mIn[112], line 1\u001b[0m\n\u001b[1;32m----> 1\u001b[0m \u001b[38;5;28;01mfrom\u001b[39;00m \u001b[38;5;21;01msklearn\u001b[39;00m\u001b[38;5;21;01m.\u001b[39;00m\u001b[38;5;21;01mfeature_extraction\u001b[39;00m\u001b[38;5;21;01m.\u001b[39;00m\u001b[38;5;21;01mtext\u001b[39;00m \u001b[38;5;28;01mimport\u001b[39;00m TfidVectorizer\n\u001b[0;32m      2\u001b[0m cv\u001b[38;5;241m=\u001b[39m TfidVectorizer()\n\u001b[0;32m      3\u001b[0m X\u001b[38;5;241m=\u001b[39m cv\u001b[38;5;241m.\u001b[39mfit_transform(corpus)\u001b[38;5;241m.\u001b[39mtoarray()\n",
      "\u001b[1;31mImportError\u001b[0m: cannot import name 'TfidVectorizer' from 'sklearn.feature_extraction.text' (C:\\Users\\user\\anaconda3\\Lib\\site-packages\\sklearn\\feature_extraction\\text.py)"
     ]
    }
   ],
   "source": [
    "from sklearn.feature_extraction.text import TfidVectorizer\n",
    "cv= TfidVectorizer()\n",
    "X= cv.fit_transform(corpus).toarray()"
   ]
  },
  {
   "cell_type": "code",
   "execution_count": null,
   "id": "558f8cd6",
   "metadata": {},
   "outputs": [],
   "source": []
  }
 ],
 "metadata": {
  "kernelspec": {
   "display_name": "Python 3 (ipykernel)",
   "language": "python",
   "name": "python3"
  },
  "language_info": {
   "codemirror_mode": {
    "name": "ipython",
    "version": 3
   },
   "file_extension": ".py",
   "mimetype": "text/x-python",
   "name": "python",
   "nbconvert_exporter": "python",
   "pygments_lexer": "ipython3",
   "version": "3.11.4"
  }
 },
 "nbformat": 4,
 "nbformat_minor": 5
}
